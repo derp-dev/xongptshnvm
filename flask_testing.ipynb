{
 "cells": [
  {
   "cell_type": "code",
   "execution_count": null,
   "metadata": {},
   "outputs": [],
   "source": [
    "# python server.py --auto-devices --no-stream --load-in-8bit --chat --listen --extensions openai\n",
    "from flask import Flask, render_template, request, redirect, url_for\n",
    "import os, sys, docker, xonsh\n",
    "\n",
    "# Instantiate Flask application\n",
    "app = Flask(__name__)\n",
    "# Create an empty list for storing logs\n",
    "logs= []\n",
    "\n",
    "# Define the route for the base URL\n",
    "@app.route('/')\n",
    "def index():\n",
    "    # Render the index.html template when the base URL is accessed\n",
    "    return render_template('index.html')\n",
    "\n",
    "# Define the route for submitting the form\n",
    "@app.route('/submit', methods=['POST'])\n",
    "def submit():\n",
    "    # Get the plain text input of the client\n",
    "    client_text_entry = request.form.get('client_text_entry')\n",
    "    # Get the plain text input of the server\n",
    "    server_text_entry = request.form.get('server_text_entry')\n",
    "    # TODO: Add code to handle the form submission\n",
    "    # For now, we will just print the entries\n",
    "    print(\"Client entry: \", client_text_entry)\n",
    "    print(\"Server entry: \", server_text_entry)\n",
    "    return redirect(url_for('index'))\n",
    "\n",
    "# This section of code checks the arguments passed to the script\n",
    "# Check if any arguments were passed\n",
    "if len(sys.argv) > 1:\n",
    "    for arg in sys.argv[1:]:\n",
    "        print('Argument passed: ' + arg)\n",
    "else:\n",
    "    print('No arguments passed')\n",
    "\n",
    "# Run the Flask application\n",
    "if __name__ == \"__main__\":\n",
    "    app.run(debug=True)\n"
   ]
  }
 ],
 "metadata": {
  "language_info": {
   "name": "python"
  },
  "orig_nbformat": 4
 },
 "nbformat": 4,
 "nbformat_minor": 2
}
