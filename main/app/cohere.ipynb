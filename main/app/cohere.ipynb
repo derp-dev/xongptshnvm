{
 "cells": [
  {
   "cell_type": "code",
   "execution_count": 3,
   "metadata": {},
   "outputs": [
    {
     "name": "stdout",
     "output_type": "stream",
     "text": [
      "API Key: jooJ8u88bkmNzEpECJEORykViT98Sgfzc0fL57XZ\n"
     ]
    },
    {
     "name": "stderr",
     "output_type": "stream",
     "text": [
      "Exception in thread Thread-5 (litellm_telemetry):\n",
      "Traceback (most recent call last):\n",
      "  File \"c:\\Users\\deV\\miniconda3\\envs\\3ten\\lib\\site-packages\\litellm\\utils.py\", line 1667, in get_or_generate_uuid\n",
      "    with open(uuid_file, \"r\") as file:\n",
      "FileNotFoundError: [Errno 2] No such file or directory: 'c:\\\\tmp\\\\litellm_uuid.txt'\n",
      "\n",
      "During handling of the above exception, another exception occurred:\n",
      "\n",
      "Traceback (most recent call last):\n",
      "  File \"c:\\Users\\deV\\miniconda3\\envs\\3ten\\lib\\threading.py\", line 1016, in _bootstrap_inner\n",
      "    self.run()\n",
      "  File \"c:\\Users\\deV\\miniconda3\\envs\\3ten\\lib\\threading.py\", line 953, in run\n",
      "    self._target(*self._args, **self._kwargs)\n",
      "  File \"c:\\Users\\deV\\miniconda3\\envs\\3ten\\lib\\site-packages\\litellm\\utils.py\", line 1688, in litellm_telemetry\n",
      "    uuid_value = get_or_generate_uuid()\n",
      "  File \"c:\\Users\\deV\\miniconda3\\envs\\3ten\\lib\\site-packages\\litellm\\utils.py\", line 1678, in get_or_generate_uuid\n",
      "    with open(uuid_file, \"w\") as file:\n",
      "FileNotFoundError: [Errno 2] No such file or directory: 'c:\\\\tmp\\\\litellm_uuid.txt'\n"
     ]
    },
    {
     "name": "stdout",
     "output_type": "stream",
     "text": [
      "{\n",
      "  \"choices\": [\n",
      "    {\n",
      "      \"finish_reason\": \"stop\",\n",
      "      \"index\": 0,\n",
      "      \"message\": {\n",
      "        \"content\": \" There is no historical evidence that King Arthur existed. However, he is a mythological figure who is said\",\n",
      "        \"role\": \"assistant\",\n",
      "        \"logprobs\": null\n",
      "      }\n",
      "    }\n",
      "  ],\n",
      "  \"created\": 1693703543.2819016,\n",
      "  \"model\": \"command-nightly\",\n",
      "  \"usage\": {\n",
      "    \"prompt_tokens\": 6,\n",
      "    \"completion_tokens\": 21,\n",
      "    \"total_tokens\": 27\n",
      "  }\n",
      "}\n"
     ]
    }
   ],
   "source": [
    "import sys, os, requests, json, time\n",
    "from litellm import completion\n",
    "from cohere import *\n",
    "\n",
    "# start jupyter-pytorch docker via cd apps/ && cd jupyter-pytorch/ && docker-compose up -d\n",
    "# http://127.0.0.1:8888 go to notebook via link in cli in terminal > password is 'password'\n",
    "\n",
    "\n",
    "def main(): # Sets cohere and oogabooga API\n",
    "  IP_ADDRESS = '127.0.0.1'\n",
    "  PORT_NUMBER = 8080\n",
    "  CHAT_MODEL = 'converse-xlarge-nightly'\n",
    "  # os.environ['endpoint'] = 'https://\n",
    "  os.environ['COHERE_API_KEY'] = ''\n",
    "  api_key = os.environ.get('COHERE_API_KEY')\n",
    "  print(f\"API Key: {api_key}\")\n",
    "  # endpoint = os.environ.get('LANGCHAIN_ENDPOINT')\n",
    "  # print(f\"endpoint: {endpoint}\")\n",
    "  inp = input(\"Enter a message: \")\n",
    "  co = Client(api_key)\n",
    "  messages = [{ \"content\": inp,\"role\": \"user\"}]\n",
    "  response = completion(\"command-nightly\", messages)\n",
    "  print(response)\n",
    "\n",
    "def coh():\n",
    "    cohd = co.generate(prompt=\"Hey! How are you doing today?\", max_tokens=200)\n",
    "    print(cohd)\n",
    "\n",
    "\"\"\"\n",
    "def ooga():\n",
    "    # oog = requests.post(f\"{endpoint}/api/v1/complete\", json={\"prompt\": \"Hey! How are you doing today?\"}).json()\n",
    "    # print(oog)\n",
    "    pass\n",
    "\"\"\"\n",
    "\n",
    "if __name__ == \"__main__\":\n",
    "    main()"
   ]
  },
  {
   "cell_type": "code",
   "execution_count": 6,
   "metadata": {},
   "outputs": [
    {
     "name": "stdout",
     "output_type": "stream",
     "text": [
      "{\"error\":{\"code\":500,\"message\":\"could not load model - all backends returned error: 22 errors occurred:\\n\\t* could not load model: rpc error: code = Unknown desc = failed loading model\\n\\t* could not load model: rpc error: code = Unknown desc = failed loading model\\n\\t* could not load model: rpc error: code = Unknown desc = failed loading model\\n\\t* could not load model: rpc error: code = Unknown desc = failed loading model\\n\\t* could not load model: rpc error: code = Unknown desc = failed loading model\\n\\t* could not load model: rpc error: code = Unknown desc = failed loading model\\n\\t* could not load model: rpc error: code = Unknown desc = failed loading model\\n\\t* could not load model: rpc error: code = Unknown desc = failed loading model\\n\\t* could not load model: rpc error: code = Unknown desc = failed loading model\\n\\t* could not load model: rpc error: code = Unknown desc = failed loading model\\n\\t* could not load model: rpc error: code = Unknown desc = failed loading model\\n\\t* could not load model: rpc error: code = Unknown desc = failed loading model\\n\\t* could not load model: rpc error: code = Unknown desc = failed loading model\\n\\t* could not load model: rpc error: code = Unavailable desc = error reading from server: EOF\\n\\t* could not load model: rpc error: code = Unknown desc = stat /models/orca-mini-7b.ggmlv3.q4_0.bin: no such file or directory\\n\\t* could not load model: rpc error: code = Unknown desc = stat /models/orca-mini-7b.ggmlv3.q4_0.bin: no such file or directory\\n\\t* could not load model: rpc error: code = Unknown desc = unsupported model type /models/orca-mini-7b.ggmlv3.q4_0.bin (should end with .onnx)\\n\\t* backend unsupported: /build/extra/grpc/diffusers/backend_diffusers.py\\n\\t* backend unsupported: /build/extra/grpc/exllama/exllama.py\\n\\t* backend unsupported: /build/extra/grpc/huggingface/huggingface.py\\n\\t* backend unsupported: /build/extra/grpc/autogptq/autogptq.py\\n\\t* backend unsupported: /build/extra/grpc/bark/ttsbark.py\\n\\n\",\"type\":\"\"}}\n"
     ]
    }
   ],
   "source": [
    "def run_api_request():\n",
    "    url = \"http://localhost:8080/v1/completions\"\n",
    "    prompt = [\"Write a python program which provides the dot product of its arguments using only os and sys no imports\"]\n",
    "    headers = {\n",
    "    \"Content-Type\": \"application/json\",\n",
    "    # \"My-Test-Header\": \"Testing!\",\n",
    "    }\n",
    "    data = {\n",
    "    \"model\": \"orca-mini-7b.ggmlv3.q4_0.bin\",\n",
    "    \"prompt\": prompt,\n",
    "    \"temperature\": 0.2\n",
    "    }\n",
    "    response = requests.post(url, headers=headers, json=data)\n",
    "    print(response.text)\n",
    "\n",
    "def main():\n",
    "    run_api_request()\n",
    "\n",
    "if __name__ == \"__main__\":\n",
    "    main()"
   ]
  },
  {
   "cell_type": "code",
   "execution_count": null,
   "metadata": {},
   "outputs": [],
   "source": [
    "class OpenAIPost:\n",
    "    def __init__(self, template):\n",
    "    self.template = template\n",
    "\n",
    "    def generate(self, context):\n",
    "    encoded = RequestTemplate(self.template).encode(context)\n",
    "\n",
    "    url = \"https://api.openai.com/v1/completions\"\n",
    "    headers = {\"Content-Type\": \"application/json\"}\n",
    "    data = {\"prompt\": encoded, \"max_tokens\": 100}\n",
    "\n",
    "    response = requests.post(\n",
    "        url=url, headers=headers, json=data\n",
    "    )\n",
    "\n",
    "    return response.text\n",
    "\n",
    "def run_chat_completion():\n",
    "    openai.api_key = os.getenv(\"OPENAI_API_KEY\")\n",
    "    chat_completion = local_chat_completion(model=\"orca-mini-7b.ggmlv3.q4_0.bin\", messages=[{\"role\": \"user\", \"content\": \"Hello world\"}])\n",
    "    print(chat_completion.choices[0].message.content)\n"
   ]
  }
 ],
 "metadata": {
  "kernelspec": {
   "display_name": "Python3 (ipykernel)",
   "language": "python",
   "name": "python3"
  },
  "language_info": {
   "codemirror_mode": {
    "name": "ipython",
    "version": 3
   },
   "file_extension": ".py",
   "mimetype": "text/x-python",
   "name": "python",
   "nbconvert_exporter": "python",
   "pygments_lexer": "ipython3",
   "version": "3.10.12"
  },
  "orig_nbformat": 4
 },
 "nbformat": 4,
 "nbformat_minor": 2
}
