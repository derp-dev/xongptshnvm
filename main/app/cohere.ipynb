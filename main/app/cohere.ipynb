{
 "cells": [
  {
   "cell_type": "code",
   "execution_count": null,
   "metadata": {},
   "outputs": [],
   "source": [
    "import sys, os, requests, json, time\n",
    "\n",
    "\n",
    "# start jupyter-pytorch docker via cd apps/ && cd jupyter-pytorch/ && docker-compose up -d\n",
    "# http://127.0.0.1:8888 go to notebook via link in cli in terminal > password is 'password'\n",
    "\n",
    "\n",
    "def main(): # Sets cohere and oogabooga API\n",
    "  IP_ADDRESS = '127.0.0.1'\n",
    "  PORT_NUMBER = 8080\n",
    "  CHAT_MODEL = 'converse-xlarge-nightly'\n",
    "  # os.environ['endpoint'] = 'https://\n",
    "  os.environ['COHERE_API_KEY'] = ''\n",
    "  api_key = os.environ.get('COHERE_API_KEY')\n",
    "  print(f\"API Key: {api_key}\")\n",
    "  # endpoint = os.environ.get('LANGCHAIN_ENDPOINT')\n",
    "  # print(f\"endpoint: {endpoint}\")\n",
    "  inp = input(\"Enter a message: \")\n",
    "  co = Client(api_key)\n",
    "  messages = [{ \"content\": inp,\"role\": \"user\"}]\n",
    "  response = completion(\"command-nightly\", messages)\n",
    "  print(response)\n",
    "\n",
    "def coh():\n",
    "    cohd = co.generate(prompt=\"Hey! How are you doing today?\", max_tokens=200)\n",
    "    print(cohd)\n",
    "\n",
    "\"\"\"\n",
    "def ooga():\n",
    "    # oog = requests.post(f\"{endpoint}/api/v1/complete\", json={\"prompt\": \"Hey! How are you doing today?\"}).json()\n",
    "    # print(oog)\n",
    "    pass\n",
    "\"\"\"\n",
    "\n",
    "if __name__ == \"__main__\":\n",
    "    main()"
   ]
  },
  {
   "cell_type": "code",
   "execution_count": null,
   "metadata": {},
   "outputs": [],
   "source": [
    "def run_api_request():\n",
    "    url = \"http://localhost:8080/v1/completions\"\n",
    "    prompt = [\"Write a python program which provides the dot product of its arguments using only os and sys no imports\"]\n",
    "    headers = {\n",
    "    \"Content-Type\": \"application/json\",\n",
    "    # \"My-Test-Header\": \"Testing!\",\n",
    "    }\n",
    "    data = {\n",
    "    \"model\": \"orca-mini-7b.ggmlv3.q4_0.bin\",\n",
    "    \"prompt\": prompt,\n",
    "    \"temperature\": 0.2\n",
    "    }\n",
    "    response = requests.post(url, headers=headers, json=data)\n",
    "    print(response.text)\n",
    "\n",
    "def main():\n",
    "    run_api_request()\n",
    "\n",
    "if __name__ == \"__main__\":\n",
    "    main()"
   ]
  },
  {
   "cell_type": "code",
   "execution_count": null,
   "metadata": {},
   "outputs": [],
   "source": [
    "class OpenAIPost:\n",
    "    def __init__(self, template):\n",
    "    self.template = template\n",
    "\n",
    "    def generate(self, context):\n",
    "    encoded = RequestTemplate(self.template).encode(context)\n",
    "\n",
    "    url = \"https://api.openai.com/v1/completions\"\n",
    "    headers = {\"Content-Type\": \"application/json\"}\n",
    "    data = {\"prompt\": encoded, \"max_tokens\": 100}\n",
    "\n",
    "    response = requests.post(\n",
    "        url=url, headers=headers, json=data\n",
    "    )\n",
    "\n",
    "    return response.text\n",
    "\n",
    "def run_chat_completion():\n",
    "    openai.api_key = os.getenv(\"OPENAI_API_KEY\")\n",
    "    chat_completion = local_chat_completion(model=\"orca-mini-7b.ggmlv3.q4_0.bin\", messages=[{\"role\": \"user\", \"content\": \"Hello world\"}])\n",
    "    print(chat_completion.choices[0].message.content)\n"
   ]
  }
 ],
 "metadata": {
  "kernelspec": {
   "display_name": "Python3 (ipykernel)",
   "language": "python",
   "name": "python3"
  },
  "language_info": {
   "codemirror_mode": {
    "name": "ipython",
    "version": 3
   },
   "file_extension": ".py",
   "mimetype": "text/x-python",
   "name": "python",
   "nbconvert_exporter": "python",
   "pygments_lexer": "ipython3",
   "version": "3.10.12"
  },
  "orig_nbformat": 4
 },
 "nbformat": 4,
 "nbformat_minor": 2
}
