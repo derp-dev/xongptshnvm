{
 "cells": [
  {
   "cell_type": "code",
   "execution_count": 4,
   "metadata": {},
   "outputs": [
    {
     "ename": "AttributeError",
     "evalue": "'Generations' object has no attribute 'text'",
     "output_type": "error",
     "traceback": [
      "\u001b[0;31m---------------------------------------------------------------------------\u001b[0m",
      "\u001b[0;31mAttributeError\u001b[0m                            Traceback (most recent call last)",
      "Cell \u001b[0;32mIn[4], line 38\u001b[0m\n\u001b[1;32m     35\u001b[0m     \u001b[39m# text_length()\u001b[39;00m\n\u001b[1;32m     37\u001b[0m \u001b[39mif\u001b[39;00m \u001b[39m__name__\u001b[39m \u001b[39m==\u001b[39m \u001b[39m\"\u001b[39m\u001b[39m__main__\u001b[39m\u001b[39m\"\u001b[39m:\n\u001b[0;32m---> 38\u001b[0m     main()\n",
      "Cell \u001b[0;32mIn[4], line 34\u001b[0m, in \u001b[0;36mmain\u001b[0;34m()\u001b[0m\n\u001b[1;32m     33\u001b[0m \u001b[39mdef\u001b[39;00m \u001b[39mmain\u001b[39m():\n\u001b[0;32m---> 34\u001b[0m     coh()\n",
      "Cell \u001b[0;32mIn[4], line 31\u001b[0m, in \u001b[0;36mcoh\u001b[0;34m()\u001b[0m\n\u001b[1;32m     29\u001b[0m co\u001b[39m.\u001b[39mgenerate(\u001b[39m\"\u001b[39m\u001b[39mWhat is 8 mile about?\u001b[39m\u001b[39m\"\u001b[39m, max_tokens\u001b[39m=\u001b[39m\u001b[39m200\u001b[39m)\n\u001b[1;32m     30\u001b[0m res \u001b[39m=\u001b[39m co\u001b[39m.\u001b[39mgenerate(prompt\u001b[39m=\u001b[39m\u001b[39m\"\u001b[39m\u001b[39mHey! How are you doing today?\u001b[39m\u001b[39m\"\u001b[39m)\n\u001b[0;32m---> 31\u001b[0m \u001b[39mprint\u001b[39m(res\u001b[39m.\u001b[39;49mtext)\n",
      "File \u001b[0;32m/opt/micromamba/envs/python_310/lib/python3.10/site-packages/cohere/responses/base.py:65\u001b[0m, in \u001b[0;36mCohereObject.__getattribute__\u001b[0;34m(self, name)\u001b[0m\n\u001b[1;32m     64\u001b[0m \u001b[39mdef\u001b[39;00m \u001b[39m__getattribute__\u001b[39m(\u001b[39mself\u001b[39m, name: \u001b[39mstr\u001b[39m) \u001b[39m-\u001b[39m\u001b[39m>\u001b[39m Any:\n\u001b[0;32m---> 65\u001b[0m     attr \u001b[39m=\u001b[39m \u001b[39msuper\u001b[39;49m()\u001b[39m.\u001b[39;49m\u001b[39m__getattribute__\u001b[39;49m(name)\n\u001b[1;32m     66\u001b[0m     \u001b[39mif\u001b[39;00m \u001b[39misinstance\u001b[39m(attr, AsyncAttribute):\n\u001b[1;32m     67\u001b[0m         \u001b[39mreturn\u001b[39;00m attr\u001b[39m.\u001b[39mresolve()\n",
      "\u001b[0;31mAttributeError\u001b[0m: 'Generations' object has no attribute 'text'"
     ]
    }
   ],
   "source": [
    "import os\n",
    "import sys\n",
    "from cohere import *\n",
    "\n",
    "# http://127.0.0.1:8888 go to notebook via link in cli in terminal >jupyter notebook password reset >newpassword\n",
    "# IP_ADDRESS = '127.0.0.1'\n",
    "# PORT_NUMBER = 8080\n",
    "\n",
    "CHAT_MODEL = 'converse-xlarge-nightly'\n",
    "os.environ['COHERE_API_KEY'] = 'key_here'\n",
    "api_key = os.environ.get('COHERE_API_KEY')\n",
    "co = Client(api_key)\n",
    "\n",
    "\"\"\"\n",
    "import IPython\n",
    "from IPython.display import Markdown, clear_output\n",
    "from ipywidgets import widgets\n",
    "text_input = widgets.Text()\n",
    "text_display = widgets.Output()\n",
    "def text_length():\n",
    "    text = text_input.value\n",
    "    length = len(text)\n",
    "    text_display.clear_output()\n",
    "    with text_display:\n",
    "        IPython.display.display(f\"The length of {text} is {length}.\")\n",
    "\"\"\"\n",
    "\n",
    "def coh():\n",
    "    co.generate(\"What is 8 mile about?\", max_tokens=200)\n",
    "    res = co.generate(prompt=\"Hey! How are you doing today?\")\n",
    "    print(res)\n",
    "\n",
    "def main():\n",
    "    coh()\n",
    "    # text_length()\n",
    "\n",
    "if __name__ == \"__main__\":\n",
    "    main()\n"
   ]
  }
 ],
 "metadata": {
  "kernelspec": {
   "display_name": "Python3 (ipykernel)",
   "language": "python",
   "name": "python3"
  },
  "language_info": {
   "codemirror_mode": {
    "name": "ipython",
    "version": 3
   },
   "file_extension": ".py",
   "mimetype": "text/x-python",
   "name": "python",
   "nbconvert_exporter": "python",
   "pygments_lexer": "ipython3",
   "version": "3.10.12"
  },
  "orig_nbformat": 4
 },
 "nbformat": 4,
 "nbformat_minor": 2
}
